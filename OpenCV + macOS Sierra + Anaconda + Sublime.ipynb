{
 "cells": [
  {
   "cell_type": "markdown",
   "metadata": {
    "deletable": true,
    "editable": true
   },
   "source": [
    "Ok Ok Ok so, you must be wondering why I would choose mac OS sierra for this, well ... to be honest, this is what I\n",
    "have access to at the moment and works fine; I started using windows back in 1998, then moved to mac more\n",
    "or less in 2004 and then to Linux in 2008-2009, I had the opportunity to try all of them for different reasons and so far, mac OS has been very reliable, is unix based and it let me use mac, linux and windows in the same machine which is awesome, easy to implement, restore and experiment with."
   ]
  },
  {
   "cell_type": "markdown",
   "metadata": {
    "deletable": true,
    "editable": true
   },
   "source": [
    "So lets say you have a clean mac OS Sierra install, this means no data and you are running your first try\n",
    "after connecting your accounts etc, etc, so what to do first. \n",
    "\n",
    "Do not forget, I am following the Adrian Rosebrock tutorial at: http://www.pyimagesearch.com/2016/12/05/macos-install-opencv-3-and-python-3-5/ great dude btw.\n"
   ]
  },
  {
   "cell_type": "markdown",
   "metadata": {
    "deletable": true,
    "editable": true
   },
   "source": [
    "###PASO 1:\n",
    "\n",
    "Install Xcode, it is a simple download from the app store and is free, right now I am working with the stable version\n",
    "because betas are no good for this setup, and the version is 8.2.1; It will install the command line tools\n",
    "the moment you first open the app, this is the important part of this step, this will take time, about 60 min with my machine with the combined download and install, after that and to be sure, run this command in the termial"
   ]
  },
  {
   "cell_type": "code",
   "execution_count": null,
   "metadata": {
    "collapsed": true,
    "deletable": true,
    "editable": true
   },
   "outputs": [],
   "source": [
    "xcode-select --version"
   ]
  },
  {
   "cell_type": "markdown",
   "metadata": {
    "deletable": true,
    "editable": true
   },
   "source": [
    "and return the version of your installation.... "
   ]
  },
  {
   "cell_type": "code",
   "execution_count": null,
   "metadata": {
    "collapsed": true,
    "deletable": true,
    "editable": true
   },
   "outputs": [],
   "source": [
    ">>> xcode-select version 2347"
   ]
  },
  {
   "cell_type": "markdown",
   "metadata": {
    "deletable": true,
    "editable": true
   },
   "source": [
    "###PASO 2:\n",
    "\n",
    "Install homebrew, open a terminal and run the next command ( https://brew.sh ), remember to say yes to adding brew to to $PATH"
   ]
  },
  {
   "cell_type": "code",
   "execution_count": null,
   "metadata": {
    "collapsed": true,
    "deletable": true,
    "editable": true
   },
   "outputs": [],
   "source": [
    "/usr/bin/ruby -e \"$(curl -fsSL https://raw.githubusercontent.com/Homebrew/install/master/install)\""
   ]
  },
  {
   "cell_type": "markdown",
   "metadata": {
    "deletable": true,
    "editable": true
   },
   "source": [
    "and try to run this command"
   ]
  },
  {
   "cell_type": "code",
   "execution_count": null,
   "metadata": {
    "collapsed": true,
    "deletable": true,
    "editable": true
   },
   "outputs": [],
   "source": [
    "brew -h "
   ]
  },
  {
   "cell_type": "markdown",
   "metadata": {
    "collapsed": true,
    "deletable": true,
    "editable": true
   },
   "source": [
    "and it will show you the help brew options, congratulations! you can start to play with linux packages in your mac; At this point, I like to install some formulas I always use, feel free if you want to excecute or not the next command, I use wget in one of the next steps but you can manually download or use the method of your preference. "
   ]
  },
  {
   "cell_type": "code",
   "execution_count": null,
   "metadata": {
    "collapsed": true,
    "deletable": true,
    "editable": true
   },
   "outputs": [],
   "source": [
    "brew install ffmpeg youtube-dl wget unzip "
   ]
  },
  {
   "cell_type": "markdown",
   "metadata": {
    "deletable": true,
    "editable": true
   },
   "source": [
    "feel free to explore and play ... http://brewformulas.org"
   ]
  },
  {
   "cell_type": "markdown",
   "metadata": {
    "deletable": true,
    "editable": true
   },
   "source": [
    "###PASO 3:\n",
    "\n",
    "This is the poit where I diverge from Adrians tutorial, I am using Anaconda as python virtual environment setup so,\n",
    "install anaconda with python 3.* "
   ]
  },
  {
   "cell_type": "code",
   "execution_count": null,
   "metadata": {
    "collapsed": true,
    "deletable": true,
    "editable": true
   },
   "outputs": [],
   "source": [
    "cd directory/where/I/Like/To/Download/Stuff/"
   ]
  },
  {
   "cell_type": "code",
   "execution_count": null,
   "metadata": {
    "collapsed": true,
    "deletable": true,
    "editable": true
   },
   "outputs": [],
   "source": [
    "wget https://repo.continuum.io/archive/Anaconda3-4.3.1-MacOSX-x86_64.sh"
   ]
  },
  {
   "cell_type": "markdown",
   "metadata": {
    "deletable": true,
    "editable": true
   },
   "source": [
    "after download run the install"
   ]
  },
  {
   "cell_type": "code",
   "execution_count": null,
   "metadata": {
    "collapsed": true,
    "deletable": true,
    "editable": true
   },
   "outputs": [],
   "source": [
    "bash Anaconda3-4.3.1-MacOSX-x86_64.sh"
   ]
  },
  {
   "cell_type": "markdown",
   "metadata": {
    "deletable": true,
    "editable": true
   },
   "source": [
    "It will take time again ..."
   ]
  },
  {
   "cell_type": "markdown",
   "metadata": {
    "deletable": true,
    "editable": true
   },
   "source": [
    "###PASO 4:\n",
    "\n",
    "Create an anaconda enviroment, for this, be sure to specify the python version or it will use anacondas one and that is bad because you want to bind this to a specific virtual environment, in this case I will create one called Expyrimental3, you know, because is experimental with python 3 so, in the terminal type the next command.\n",
    "\n"
   ]
  },
  {
   "cell_type": "code",
   "execution_count": null,
   "metadata": {
    "collapsed": true,
    "deletable": true,
    "editable": true
   },
   "outputs": [],
   "source": [
    "conda create -n \"Expyrimental3\" python=3"
   ]
  },
  {
   "cell_type": "markdown",
   "metadata": {
    "deletable": true,
    "editable": true
   },
   "source": [
    "and start the enviroment"
   ]
  },
  {
   "cell_type": "code",
   "execution_count": null,
   "metadata": {
    "collapsed": true,
    "deletable": true,
    "editable": true
   },
   "outputs": [],
   "source": [
    "source activate Expyrimental3"
   ]
  },
  {
   "cell_type": "markdown",
   "metadata": {
    "deletable": true,
    "editable": true
   },
   "source": [
    "BE SURE TO BE IN THE ENVIRONMENT, THIS IS CRUCIAL IF YOU WANT TO HAVE TOTAL CONTROL OVER OPENCV COMPILATION"
   ]
  },
  {
   "cell_type": "code",
   "execution_count": null,
   "metadata": {
    "collapsed": true,
    "deletable": true,
    "editable": true
   },
   "outputs": [],
   "source": [
    ">>> (Expyrimental3) Maui:/ memo$ "
   ]
  },
  {
   "cell_type": "markdown",
   "metadata": {
    "deletable": true,
    "editable": true
   },
   "source": [
    "Maui is my laptop, memo my user, the important thing is the  (Expyrimental3) part, it means you are where you need to be."
   ]
  },
  {
   "cell_type": "markdown",
   "metadata": {
    "deletable": true,
    "editable": true
   },
   "source": [
    "Install SciPy, this is not fully neccesary but it is cool and will save some hassel while experimenting; While being in (Expyrimental3) run:"
   ]
  },
  {
   "cell_type": "code",
   "execution_count": null,
   "metadata": {
    "collapsed": true,
    "deletable": true,
    "editable": true
   },
   "outputs": [],
   "source": [
    "pip install numpy scipy matplotlib ipython jupyter pandas sympy nose pillow cython kivy"
   ]
  },
  {
   "cell_type": "markdown",
   "metadata": {
    "deletable": true,
    "editable": true
   },
   "source": [
    "This will give you numpy, kivy and tensorflow ... math, UI and machine learning ... so lets play with computer vision ..."
   ]
  },
  {
   "cell_type": "markdown",
   "metadata": {
    "deletable": true,
    "editable": true
   },
   "source": [
    "###PASO 5:\n",
    "\n",
    "Install OpenCV dependencies with homebrew, brew do not care about the env but it is ok, do not worry."
   ]
  },
  {
   "cell_type": "code",
   "execution_count": null,
   "metadata": {
    "collapsed": true,
    "deletable": true,
    "editable": true
   },
   "outputs": [],
   "source": [
    "brew install cmake pkg-config\n",
    "brew install jpeg libpng libtiff openexr\n",
    "brew install eigen tbb"
   ]
  },
  {
   "cell_type": "markdown",
   "metadata": {
    "deletable": true,
    "editable": true
   },
   "source": [
    "You will get some warnings and to take care of them you will need to create a path of some of the brew python modules installed after this commands, remember, \"Expyrimental3\" and \"memo\" are  my choices, you can use whatever you like but be sure to replace it in the string with your choice\n"
   ]
  },
  {
   "cell_type": "code",
   "execution_count": null,
   "metadata": {
    "collapsed": true,
    "deletable": true,
    "editable": true
   },
   "outputs": [],
   "source": [
    "echo 'import site; site.addsitedir(\"/usr/local/lib/python2.7/site-packages\")' >> /Users/memo/anaconda3/envs/Expyrimental3/lib/python3.6/site-packages/homebrew.pth"
   ]
  },
  {
   "cell_type": "markdown",
   "metadata": {
    "deletable": true,
    "editable": true
   },
   "source": [
    "###PASO 6:\n",
    "\n",
    "Download python openCV and contributions repos"
   ]
  },
  {
   "cell_type": "code",
   "execution_count": null,
   "metadata": {
    "collapsed": true,
    "deletable": true,
    "editable": true
   },
   "outputs": [],
   "source": [
    "cd directory/where/I/Like/To/Download/my/git/repos/"
   ]
  },
  {
   "cell_type": "code",
   "execution_count": null,
   "metadata": {
    "collapsed": true,
    "deletable": true,
    "editable": true
   },
   "outputs": [],
   "source": [
    "git clone https://github.com/opencv/opencv"
   ]
  },
  {
   "cell_type": "code",
   "execution_count": null,
   "metadata": {
    "collapsed": true,
    "deletable": true,
    "editable": true
   },
   "outputs": [],
   "source": [
    "git clone https://github.com/opencv/opencv_contrib"
   ]
  },
  {
   "cell_type": "markdown",
   "metadata": {
    "deletable": true,
    "editable": true
   },
   "source": [
    "Sorry if I do not explain git, that is out of scope,\n",
    "you can look at http://rogerdudler.github.io/git-guide/"
   ]
  },
  {
   "cell_type": "markdown",
   "metadata": {
    "deletable": true,
    "editable": true
   },
   "source": [
    "###PASO 7:\n",
    "\n",
    "Here comes the fun, you will have to acknowledge some important paths for cmake config:\n",
    "    \n",
    "FOR ME, USING EXPYRIMENTAL3 path and memo as my user\n",
    "\n",
    "### Site packages:\n",
    "/Users/memo/anaconda3/envs/Expyrimental3/lib/python3.6/site-packages\n",
    "\n",
    "### OpenCV repo:\n",
    "/Users/memo/_git/opencv\n",
    "\n",
    "### OpemCV modules repo:\n",
    "/Users/memo/_git/opencv_contrib/modules\n",
    "\n",
    "### Python anaconda env lib\n",
    "/Users/memo/anaconda3/envs/Expyrimental3/lib/libpython3.6m.dylib \n",
    "\n",
    "### Python C anaconda env header\n",
    "/Users/memo/anaconda3/envs/Expyrimental3/include/python3.6m/Python.h\n",
    "\n",
    "### Python anaconda interpreter  \n",
    "/Users/memo/anaconda3/envs/Expyrimental3/bin/python\n"
   ]
  },
  {
   "cell_type": "markdown",
   "metadata": {
    "deletable": true,
    "editable": true
   },
   "source": [
    "after you are sure of those paths we can start bash scripting ...."
   ]
  },
  {
   "cell_type": "markdown",
   "metadata": {
    "deletable": true,
    "editable": true
   },
   "source": [
    "go to the openCV repo"
   ]
  },
  {
   "cell_type": "code",
   "execution_count": null,
   "metadata": {
    "collapsed": true,
    "deletable": true,
    "editable": true
   },
   "outputs": [],
   "source": [
    "cd my/opencCV/repo/"
   ]
  },
  {
   "cell_type": "markdown",
   "metadata": {
    "deletable": true,
    "editable": true
   },
   "source": [
    "create a folder to make the build, and go to it"
   ]
  },
  {
   "cell_type": "code",
   "execution_count": null,
   "metadata": {
    "collapsed": true,
    "deletable": true,
    "editable": true
   },
   "outputs": [],
   "source": [
    "mkdir expy3build\n",
    "cd expy3build"
   ]
  },
  {
   "cell_type": "markdown",
   "metadata": {
    "deletable": true,
    "editable": true
   },
   "source": [
    "run the first line, (\"\\\") backslash is important and hit enter after each one of them, the last (\"..\") it is important too, it will tell cmake where is it, make the proper changes if you choosed other names, setup, etc..."
   ]
  },
  {
   "cell_type": "code",
   "execution_count": null,
   "metadata": {
    "collapsed": true,
    "deletable": true,
    "editable": true
   },
   "outputs": [],
   "source": [
    "cmake -D CMAKE_BUILD_TYPE=RELEASE \\\n",
    " -D CMAKE_INSTALL_PREFIX=/usr/local \\\n",
    " -D OPENCV_EXTRA_MODULES_PATH=/Users/memo/_git/opencv_contrib/modules \\\n",
    " -D PYTHON3_LIBRARY=/Users/memo/anaconda3/envs/Expyrimental3/lib/libpython3.6m.dylib \\\n",
    " -D PYTHON3_INCLUDE_DIR=/Users/memo/anaconda3/envs/Expyrimental3/include/python3.6m/Python.h \\\n",
    " -D PYTHON3_EXECUTABLE=/Users/memo/anaconda3/envs/Expyrimental3/bin/python \\\n",
    " -D BUILD_opencv_python2=OFF \\\n",
    " -D BUILD_opencv_python3=ON \\ \n",
    " -D INSTALL_C_EXAMPLES=OFF \\ \n",
    " -D BUILD_EXAMPLES=ON .."
   ]
  },
  {
   "cell_type": "markdown",
   "metadata": {
    "deletable": true,
    "editable": true
   },
   "source": [
    "I am almost sure you will get an error at 84% or 85%, and do not worry, it is because matplotlib will complain and has an easy fix: \n",
    "\n",
    "RuntimeError: Python is not installed as a framework. The Mac OS X backend will not be able to function correctly if Python is not installed as a framework. See the Python documentation for more information on installing Python as a framework on Mac OS X. Please either reinstall Python as a framework, or try one of the other backends. If you are using (Ana)Conda please install python.app and replace the use of 'python' with 'pythonw'. See 'Working with Matplotlib on OSX' in the Matplotlib FAQ for more information."
   ]
  },
  {
   "cell_type": "markdown",
   "metadata": {
    "deletable": true,
    "editable": true
   },
   "source": [
    "create a file for matplotlib to specify librc properties:"
   ]
  },
  {
   "cell_type": "code",
   "execution_count": null,
   "metadata": {
    "collapsed": true,
    "deletable": true,
    "editable": true
   },
   "outputs": [],
   "source": [
    "touch ~/.matplotlib/matplotlibrc"
   ]
  },
  {
   "cell_type": "markdown",
   "metadata": {
    "deletable": true,
    "editable": true
   },
   "source": [
    "edit it with vim and add a line:"
   ]
  },
  {
   "cell_type": "code",
   "execution_count": null,
   "metadata": {
    "collapsed": true,
    "deletable": true,
    "editable": true
   },
   "outputs": [],
   "source": [
    "vim ~/.matplotlib/matplotlibrc"
   ]
  },
  {
   "cell_type": "code",
   "execution_count": null,
   "metadata": {
    "collapsed": true,
    "deletable": true,
    "editable": true
   },
   "outputs": [],
   "source": [
    "backend: TkAgg"
   ]
  },
  {
   "cell_type": "markdown",
   "metadata": {
    "deletable": true,
    "editable": true
   },
   "source": [
    "that is it, try again and you will reach 100%\n",
    "\n",
    "[100%] Linking CXX executable ../../bin/cpp-example-delaunay2\n",
    "[100%] Built target example_autofocus\n",
    "[100%] Built target example_facial_features\n",
    "[100%] Built target example_delaunay2"
   ]
  },
  {
   "cell_type": "markdown",
   "metadata": {
    "deletable": true,
    "editable": true
   },
   "source": [
    "then run the make install command, you do not need to be root because you are using conda envs."
   ]
  },
  {
   "cell_type": "code",
   "execution_count": null,
   "metadata": {
    "collapsed": true,
    "deletable": true,
    "editable": true
   },
   "outputs": [],
   "source": [
    " make install"
   ]
  },
  {
   "cell_type": "markdown",
   "metadata": {
    "deletable": true,
    "editable": true
   },
   "source": [
    "and it will take a while ..."
   ]
  },
  {
   "cell_type": "markdown",
   "metadata": {
    "deletable": true,
    "editable": true
   },
   "source": [
    "after that you will need to rename a file and create a link to the actual conda env\n",
    "(\"cv2.cpython-36m-darwin.so\" string will be specific to your version so check it in your build folder)"
   ]
  },
  {
   "cell_type": "markdown",
   "metadata": {
    "deletable": true,
    "editable": true
   },
   "source": [
    "rename:"
   ]
  },
  {
   "cell_type": "code",
   "execution_count": null,
   "metadata": {
    "collapsed": true,
    "deletable": true,
    "editable": true
   },
   "outputs": [],
   "source": [
    "mv /Users/memo/_git/opencv/exp3build/lib/python3/cv2.cpython-36m-darwin.so /Users/memo/_git/opencv/exp3build/lib/python3/cv2.so"
   ]
  },
  {
   "cell_type": "markdown",
   "metadata": {
    "deletable": true,
    "editable": true
   },
   "source": [
    "link:"
   ]
  },
  {
   "cell_type": "code",
   "execution_count": null,
   "metadata": {
    "collapsed": true,
    "deletable": true,
    "editable": true
   },
   "outputs": [],
   "source": [
    "cd /Users/memo/anaconda3/envs/Expyrimental3/lib/python3.6/site-packages"
   ]
  },
  {
   "cell_type": "code",
   "execution_count": null,
   "metadata": {
    "collapsed": true,
    "deletable": true,
    "editable": true
   },
   "outputs": [],
   "source": [
    "ln -s /Users/memo/_git/opencv/exp3build/lib/python3/cv2.so cv2.so"
   ]
  },
  {
   "cell_type": "markdown",
   "metadata": {
    "deletable": true,
    "editable": true
   },
   "source": [
    "and that is it ... Yeeeeiiii you have it, load a python console in your anaconda env and run this"
   ]
  },
  {
   "cell_type": "code",
   "execution_count": null,
   "metadata": {
    "collapsed": true,
    "deletable": true,
    "editable": true
   },
   "outputs": [],
   "source": [
    "[GCC 4.2.1 Compatible Apple LLVM 6.0 (clang-600.0.57)] on darwin\n",
    "Type \"help\", \"copyright\", \"credits\" or \"license\" for more information.\n",
    ">>> import cv2\n",
    ">>> cv2.__version__\n",
    "'3.2.0-dev'"
   ]
  },
  {
   "cell_type": "markdown",
   "metadata": {
    "deletable": true,
    "editable": true
   },
   "source": [
    "after this, you can play with the demos, install sublime, sublime package manager, sublime anaconda plugin and use the proyect in this repo.\n",
    "\n",
    "enjoy and play :)"
   ]
  },
  {
   "cell_type": "code",
   "execution_count": null,
   "metadata": {
    "collapsed": true,
    "deletable": true,
    "editable": true
   },
   "outputs": [],
   "source": []
  }
 ],
 "metadata": {
  "kernelspec": {
   "display_name": "Python 3",
   "language": "python",
   "name": "python3"
  },
  "language_info": {
   "codemirror_mode": {
    "name": "ipython",
    "version": 3
   },
   "file_extension": ".py",
   "mimetype": "text/x-python",
   "name": "python",
   "nbconvert_exporter": "python",
   "pygments_lexer": "ipython3",
   "version": "3.6.0"
  }
 },
 "nbformat": 4,
 "nbformat_minor": 2
}
