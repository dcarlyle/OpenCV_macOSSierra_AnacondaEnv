{
 "cells": [
  {
   "cell_type": "markdown",
   "metadata": {},
   "source": [
    "#Ok Ok Ok so, you must be wondering why I would choose mac OS sierra for this, well ... to be honest, this is what I\n",
    "have access to at the moment and works fine, I started with windows OS back in 1998, then moved to mac OS more\n",
    "or less in 2004 and then to Linux in 2008-2009, I had the opportunity to try all of them just for fun and for many different reasons and so far, mac OS has been really reliable, is unix based and it lets me use mac, linux and windows in the same machine, which is awesome and easy to implement, restore and experiment with."
   ]
  },
  {
   "cell_type": "markdown",
   "metadata": {},
   "source": [
    "#So lets say you have a clean mac OS Sierra install, this means no data and you are running your first try\n",
    "after connecting your accounts etc, etc, so what to do first. \n",
    "\n",
    "Do not forget, I am following the Adrian Rosebrock tutorial at: http://www.pyimagesearch.com/2016/12/05/macos-install-opencv-3-and-python-3-5/ great dude btw.\n"
   ]
  },
  {
   "cell_type": "markdown",
   "metadata": {},
   "source": [
    "#PASO 1:\n",
    "\n",
    "Install Xcode, it is a simple download from the app store and is free, right now I am working with the stable version\n",
    "because betas are no good for this setup, I am currently working with 8.2.1, It will install the command line tools\n",
    "the moment you first open the app which is the important part of this step,after that and to be sure run this command in the termial"
   ]
  },
  {
   "cell_type": "code",
   "execution_count": null,
   "metadata": {
    "collapsed": true
   },
   "outputs": [],
   "source": [
    "xcode-select --version"
   ]
  },
  {
   "cell_type": "markdown",
   "metadata": {},
   "source": [
    "#and return the version of your install .... "
   ]
  },
  {
   "cell_type": "code",
   "execution_count": null,
   "metadata": {
    "collapsed": true
   },
   "outputs": [],
   "source": [
    ">>> xcode-select version 2347"
   ]
  },
  {
   "cell_type": "markdown",
   "metadata": {},
   "source": [
    "#PASO 2:\n",
    "\n",
    "Install homebrew, open a terminal and run the next command ( https://brew.sh )"
   ]
  },
  {
   "cell_type": "code",
   "execution_count": null,
   "metadata": {
    "collapsed": true
   },
   "outputs": [],
   "source": [
    "/usr/bin/ruby -e \"$(curl -fsSL https://raw.githubusercontent.com/Homebrew/install/master/install)\""
   ]
  },
  {
   "cell_type": "markdown",
   "metadata": {},
   "source": [
    "and try to run this command"
   ]
  },
  {
   "cell_type": "code",
   "execution_count": 2,
   "metadata": {
    "collapsed": false
   },
   "outputs": [
    {
     "ename": "NameError",
     "evalue": "name 'brew' is not defined",
     "output_type": "error",
     "traceback": [
      "\u001b[0;31m---------------------------------------------------------------------------\u001b[0m",
      "\u001b[0;31mNameError\u001b[0m                                 Traceback (most recent call last)",
      "\u001b[0;32m<ipython-input-2-870d80976830>\u001b[0m in \u001b[0;36m<module>\u001b[0;34m()\u001b[0m\n\u001b[0;32m----> 1\u001b[0;31m \u001b[0mbrew\u001b[0m \u001b[0;34m-\u001b[0m\u001b[0mh\u001b[0m\u001b[0;34m\u001b[0m\u001b[0m\n\u001b[0m",
      "\u001b[0;31mNameError\u001b[0m: name 'brew' is not defined"
     ]
    }
   ],
   "source": [
    "brew -h "
   ]
  },
  {
   "cell_type": "code",
   "execution_count": null,
   "metadata": {
    "collapsed": true
   },
   "outputs": [],
   "source": [
    "and it will show you the help brew options, Congratulations! you can start playing with linus in your mac, "
   ]
  }
 ],
 "metadata": {
  "kernelspec": {
   "display_name": "Python 3",
   "language": "python",
   "name": "python3"
  },
  "language_info": {
   "codemirror_mode": {
    "name": "ipython",
    "version": 3
   },
   "file_extension": ".py",
   "mimetype": "text/x-python",
   "name": "python",
   "nbconvert_exporter": "python",
   "pygments_lexer": "ipython3",
   "version": "3.6.0"
  }
 },
 "nbformat": 4,
 "nbformat_minor": 2
}
